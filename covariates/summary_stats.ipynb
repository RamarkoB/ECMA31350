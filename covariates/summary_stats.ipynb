{
 "cells": [
  {
   "cell_type": "code",
   "execution_count": 2,
   "metadata": {},
   "outputs": [],
   "source": [
    "import json\n",
    "import pandas as pd\n",
    "import numpy as np"
   ]
  },
  {
   "cell_type": "code",
   "execution_count": 3,
   "metadata": {},
   "outputs": [],
   "source": [
    "covariates_file = 'covariates.json'"
   ]
  },
  {
   "cell_type": "code",
   "execution_count": 5,
   "metadata": {},
   "outputs": [],
   "source": [
    "df_raw = pd.read_json(covariates_file)"
   ]
  },
  {
   "cell_type": "code",
   "execution_count": 9,
   "metadata": {},
   "outputs": [
    {
     "name": "stdout",
     "output_type": "stream",
     "text": [
      "Index(['id', 'name', 'isFork', 'commits', 'branches', 'releases', 'forks',\n",
      "       'mainLanguage', 'defaultBranch', 'license', 'homepage', 'watchers',\n",
      "       'stargazers', 'contributors', 'size', 'createdAt', 'pushedAt',\n",
      "       'updatedAt', 'totalIssues', 'openIssues', 'totalPullRequests',\n",
      "       'openPullRequests', 'blankLines', 'codeLines', 'commentLines',\n",
      "       'metrics', 'lastCommit', 'lastCommitSHA', 'hasWiki', 'isArchived',\n",
      "       'isDisabled', 'isLocked', 'languages', 'labels', 'topics'],\n",
      "      dtype='object')\n",
      "0      2009-12-10T12:51:14\n",
      "1      2010-05-17T09:27:02\n",
      "2      2010-09-06T09:39:43\n",
      "3      2010-11-09T09:22:21\n",
      "4      2011-02-04T02:40:00\n",
      "              ...         \n",
      "389    2015-08-04T07:01:06\n",
      "390    2014-02-06T12:18:47\n",
      "391    2014-06-06T10:56:04\n",
      "392    2012-06-04T02:49:46\n",
      "393    2013-12-14T09:47:37\n",
      "Name: createdAt, Length: 394, dtype: object\n"
     ]
    }
   ],
   "source": [
    "print(df_raw.columns)"
   ]
  },
  {
   "cell_type": "code",
   "execution_count": 30,
   "metadata": {},
   "outputs": [],
   "source": [
    "def filter_language(langs):\n",
    "    # langs is a dictionary of languages and their bytes\n",
    "    # we want to return the most used language\n",
    "    if not langs:\n",
    "        return 'None'\n",
    "    else:\n",
    "        return max(langs, key=langs.get)\n",
    "\n",
    "def get_age_seconds(age):\n",
    "    return (pd.to_datetime('today') - pd.to_datetime(age)).total_seconds()\n"
   ]
  },
  {
   "cell_type": "code",
   "execution_count": 40,
   "metadata": {},
   "outputs": [
    {
     "name": "stdout",
     "output_type": "stream",
     "text": [
      "                       name    size  contributors  watchers  forks  \\\n",
      "0     robotiumtech/robotium    2372          38.0       249    775   \n",
      "1  graylog2/graylog2-server  175782         134.0       239   1024   \n",
      "2           square/retrofit    6173         155.0      1572   7262   \n",
      "3               netty/netty   87670         358.0      1760  15657   \n",
      "4                k9mail/k-9   82239         233.0       348   2252   \n",
      "\n",
      "   stargazers            createdAt             license language           age  \\\n",
      "0        2680  2009-12-10T12:51:14  Apache License 2.0     None  4.494587e+08   \n",
      "1        6989  2010-05-17T09:27:02               Other     Java  4.358198e+08   \n",
      "2       42495  2010-09-06T09:39:43  Apache License 2.0     Java  4.261422e+08   \n",
      "3       32523  2010-11-09T09:22:21  Apache License 2.0     Java  4.206136e+08   \n",
      "4        6729  2011-02-04T02:40:00  Apache License 2.0     Java  4.131210e+08   \n",
      "\n",
      "      age_days  \n",
      "0  5202.068372  \n",
      "1  5044.210178  \n",
      "2  4932.201370  \n",
      "3  4868.213430  \n",
      "4  4781.492840  \n"
     ]
    },
    {
     "name": "stderr",
     "output_type": "stream",
     "text": [
      "/var/folders/16/f2lcjdn174n2mbc1pd7lybzc0000gn/T/ipykernel_45966/4209823327.py:7: SettingWithCopyWarning: \n",
      "A value is trying to be set on a copy of a slice from a DataFrame.\n",
      "Try using .loc[row_indexer,col_indexer] = value instead\n",
      "\n",
      "See the caveats in the documentation: https://pandas.pydata.org/pandas-docs/stable/user_guide/indexing.html#returning-a-view-versus-a-copy\n",
      "  df_filtered['language'] = df_raw['languages'].apply(filter_language)\n",
      "/var/folders/16/f2lcjdn174n2mbc1pd7lybzc0000gn/T/ipykernel_45966/4209823327.py:8: SettingWithCopyWarning: \n",
      "A value is trying to be set on a copy of a slice from a DataFrame.\n",
      "Try using .loc[row_indexer,col_indexer] = value instead\n",
      "\n",
      "See the caveats in the documentation: https://pandas.pydata.org/pandas-docs/stable/user_guide/indexing.html#returning-a-view-versus-a-copy\n",
      "  df_filtered['age'] = df_raw['createdAt'].apply(get_age_seconds)\n",
      "/var/folders/16/f2lcjdn174n2mbc1pd7lybzc0000gn/T/ipykernel_45966/4209823327.py:9: SettingWithCopyWarning: \n",
      "A value is trying to be set on a copy of a slice from a DataFrame.\n",
      "Try using .loc[row_indexer,col_indexer] = value instead\n",
      "\n",
      "See the caveats in the documentation: https://pandas.pydata.org/pandas-docs/stable/user_guide/indexing.html#returning-a-view-versus-a-copy\n",
      "  df_filtered['age_days'] = df_filtered['age'] / (60*60*24)\n"
     ]
    }
   ],
   "source": [
    "opvs = ['name', 'size', 'contributors', 'watchers',\n",
    "        'forks', 'stargazers', 'createdAt',\n",
    "        'license', 'languages']\n",
    "\n",
    "df_filtered = df_raw[opvs]\n",
    "\n",
    "df_filtered['language'] = df_raw['languages'].apply(filter_language)\n",
    "df_filtered['age'] = df_raw['createdAt'].apply(get_age_seconds)\n",
    "df_filtered['age_days'] = df_filtered['age'] / (60*60*24)\n",
    "\n",
    "df_final = df_filtered.drop(['languages'], axis=1)\n",
    "\n",
    "\n",
    "print(df_final.head())"
   ]
  },
  {
   "cell_type": "code",
   "execution_count": 58,
   "metadata": {},
   "outputs": [
    {
     "name": "stdout",
     "output_type": "stream",
     "text": [
      "\\begin{tabular}{lrrrrrrr}\n",
      "\\toprule\n",
      " & size & contributors & watchers & forks & stargazers & age & age_days \\\\\n",
      "\\midrule\n",
      "count & 394.000000 & 393.000000 & 394.000000 & 394.000000 & 394.000000 & 394.000000 & 394.000000 \\\\\n",
      "mean & 256293.167513 & 204.608142 & 564.251269 & 4101.934010 & 17251.862944 & 337120066.163223 & 3901.852618 \\\\\n",
      "std & 525664.305803 & 146.514327 & 1005.098236 & 8527.580280 & 34180.806563 & 54610608.144726 & 632.067224 \\\\\n",
      "min & 15.000000 & 1.000000 & 0.000000 & 2.000000 & 10.000000 & 56441309.435671 & 653.255896 \\\\\n",
      "25% & 31868.000000 & 76.000000 & 86.250000 & 426.250000 & 1450.000000 & 294295382.189134 & 3406.196553 \\\\\n",
      "50% & 91607.500000 & 181.000000 & 253.500000 & 1432.000000 & 6520.500000 & 329474273.392186 & 3813.359646 \\\\\n",
      "75% & 238346.250000 & 341.000000 & 601.000000 & 3748.500000 & 18226.000000 & 373062613.118934 & 4317.854319 \\\\\n",
      "max & 5882661.000000 & 1230.000000 & 8503.000000 & 78315.000000 & 384563.000000 & 502027794.438815 & 5810.506880 \\\\\n",
      "\\bottomrule\n",
      "\\end{tabular}\n",
      "\n",
      "\\begin{tabular}{rrrrrrr}\n",
      "\\toprule\n",
      "mean & std & min & 25% & 50% & 75% & max \\\\\n",
      "\\midrule\n",
      "256293.17 & 525664.31 & 15.00 & 31868.00 & 91607.50 & 238346.25 & 5882661.00 \\\\\n",
      "204.61 & 146.51 & 1.00 & 76.00 & 181.00 & 341.00 & 1230.00 \\\\\n",
      "564.25 & 1005.10 & 0.00 & 86.25 & 253.50 & 601.00 & 8503.00 \\\\\n",
      "4101.93 & 8527.58 & 2.00 & 426.25 & 1432.00 & 3748.50 & 78315.00 \\\\\n",
      "17251.86 & 34180.81 & 10.00 & 1450.00 & 6520.50 & 18226.00 & 384563.00 \\\\\n",
      "337120066.16 & 54610608.14 & 56441309.44 & 294295382.19 & 329474273.39 & 373062613.12 & 502027794.44 \\\\\n",
      "3901.85 & 632.07 & 653.26 & 3406.20 & 3813.36 & 4317.85 & 5810.51 \\\\\n",
      "\\bottomrule\n",
      "\\end{tabular}\n",
      "\n"
     ]
    }
   ],
   "source": [
    "summary = df_final.describe()\n",
    "\n",
    "print(summary.to_latex())\n",
    "transposed = summary.T\n",
    "transposed = transposed.drop(['count'], axis=1)\n",
    "\n",
    "\n",
    "print(transposed.to_latex(index=False, float_format='%.2f'))\n"
   ]
  },
  {
   "cell_type": "code",
   "execution_count": 120,
   "metadata": {},
   "outputs": [
    {
     "name": "stdout",
     "output_type": "stream",
     "text": [
      "449\n"
     ]
    }
   ],
   "source": [
    "treated = []\n",
    "treated_repos_data = '../data/treatment-new.json'\n",
    "ser = pd.read_json(treated_repos_data, typ='series')\n",
    "\n",
    "for k, v in ser.items():\n",
    "    # skip if v is NaT\n",
    "    if pd.isnull(v):\n",
    "        continue\n",
    "    \n",
    "    treated.append('/'.join(k.split('--')))\n",
    "\n",
    "print(len(treated))"
   ]
  },
  {
   "cell_type": "code",
   "execution_count": 184,
   "metadata": {},
   "outputs": [
    {
     "name": "stdout",
     "output_type": "stream",
     "text": [
      "306\n",
      "   treatment                      name    size  contributors  watchers  forks  \\\n",
      "1       True  graylog2/graylog2-server  175782         134.0       239   1024   \n",
      "2       True           square/retrofit    6173         155.0      1572   7262   \n",
      "3       True               netty/netty   87670         358.0      1760  15657   \n",
      "4       True                k9mail/k-9   82239         233.0       348   2252   \n",
      "6       True                 cgeo/cgeo  456159         125.0        86    561   \n",
      "\n",
      "   stargazers            createdAt             license language           age  \\\n",
      "1        6989  2010-05-17T09:27:02               Other     Java  4.358198e+08   \n",
      "2       42495  2010-09-06T09:39:43  Apache License 2.0     Java  4.261422e+08   \n",
      "3       32523  2010-11-09T09:22:21  Apache License 2.0     Java  4.206136e+08   \n",
      "4        6729  2011-02-04T02:40:00  Apache License 2.0     Java  4.131210e+08   \n",
      "6        1327  2011-07-11T06:02:47  Apache License 2.0     Java  3.995440e+08   \n",
      "\n",
      "      age_days  \n",
      "1  5044.210178  \n",
      "2  4932.201370  \n",
      "3  4868.213430  \n",
      "4  4781.492840  \n",
      "6  4624.352018  \n",
      "88\n",
      "    treatment                          name   size  contributors  watchers  \\\n",
      "0       False         robotiumtech/robotium   2372          38.0       249   \n",
      "5       False      pexplugins/permissionsex   7346          27.0        57   \n",
      "10      False           docdoku/docdoku-plm     15           1.0        52   \n",
      "23      False                square/picasso   5782          98.0       835   \n",
      "24      False  wildfly-extras/wildfly-camel  18093          17.0        18   \n",
      "\n",
      "    forks  stargazers            createdAt  \\\n",
      "0     775        2680  2009-12-10T12:51:14   \n",
      "5     303         478  2011-04-17T04:04:00   \n",
      "10     77         161  2012-06-11T09:52:39   \n",
      "23   3970       18645  2013-05-14T03:07:47   \n",
      "24     57          66  2013-05-15T03:12:55   \n",
      "\n",
      "                                   license language           age     age_days  \n",
      "0                       Apache License 2.0     None  4.494587e+08  5202.068372  \n",
      "5                       Apache License 2.0     Java  4.068951e+08  4709.434507  \n",
      "10  GNU Affero General Public License v3.0    Shell  3.704998e+08  4288.192388  \n",
      "23                      Apache License 2.0   Kotlin  3.414073e+08  3951.473546  \n",
      "24                      Apache License 2.0     Java  3.413206e+08  3950.469981  \n"
     ]
    }
   ],
   "source": [
    "df_treatment = []\n",
    "df_control = []\n",
    "for _, row in df_final.iterrows():\n",
    "    if row['name'] in treated:\n",
    "        df_treatment.append(row)\n",
    "    else:\n",
    "        df_control.append(row)\n",
    "\n",
    "\n",
    "df_treatment = pd.DataFrame(df_treatment)\n",
    "df_control = pd.DataFrame(df_control)\n",
    "print(len(df_treatment))\n",
    "print(df_treatment.head())\n",
    "print(len(df_control))\n",
    "print(df_control.head())\n"
   ]
  },
  {
   "cell_type": "code",
   "execution_count": 203,
   "metadata": {},
   "outputs": [
    {
     "name": "stdout",
     "output_type": "stream",
     "text": [
      "              count           mean            std          min           25%  \\\n",
      "size          306.0  289841.241830  545256.814409  1088.000000  43333.000000   \n",
      "contributors  306.0     237.627451     141.297820     1.000000    111.000000   \n",
      "watchers      306.0     679.571895    1106.433118    13.000000    155.250000   \n",
      "forks         306.0    5028.983660    9430.211751     3.000000    758.750000   \n",
      "stargazers    306.0   21250.555556   37731.735212    16.000000   3078.500000   \n",
      "age_days      306.0    3960.768169     610.899825  2164.153523   3473.286937   \n",
      "\n",
      "                        50%            75%           max  \n",
      "size          120227.000000  274240.750000  5.882661e+06  \n",
      "contributors     236.000000     356.750000  1.230000e+03  \n",
      "watchers         320.000000     723.750000  8.503000e+03  \n",
      "forks           2069.500000    4368.500000  7.831500e+04  \n",
      "stargazers      8899.000000   23328.250000  3.845630e+05  \n",
      "age_days        3858.303639    4376.298136  5.810507e+03  \n"
     ]
    },
    {
     "ename": "ValueError",
     "evalue": "Length of values (7) does not match length of index (6)",
     "output_type": "error",
     "traceback": [
      "\u001b[0;31m---------------------------------------------------------------------------\u001b[0m",
      "\u001b[0;31mValueError\u001b[0m                                Traceback (most recent call last)",
      "Cell \u001b[0;32mIn[203], line 8\u001b[0m\n\u001b[1;32m      5\u001b[0m \u001b[38;5;66;03m# print(c_describe)\u001b[39;00m\n\u001b[1;32m      7\u001b[0m t_describe \u001b[38;5;241m=\u001b[39m t_describe[[\u001b[38;5;124m'\u001b[39m\u001b[38;5;124mmean\u001b[39m\u001b[38;5;124m'\u001b[39m, \u001b[38;5;124m'\u001b[39m\u001b[38;5;124mstd\u001b[39m\u001b[38;5;124m'\u001b[39m]]\n\u001b[0;32m----> 8\u001b[0m \u001b[43mt_describe\u001b[49m\u001b[38;5;241;43m.\u001b[39;49m\u001b[43minsert\u001b[49m\u001b[43m(\u001b[49m\u001b[38;5;241;43m0\u001b[39;49m\u001b[43m,\u001b[49m\u001b[43m \u001b[49m\u001b[38;5;124;43m'\u001b[39;49m\u001b[38;5;124;43mCovar\u001b[39;49m\u001b[38;5;124;43m'\u001b[39;49m\u001b[43m,\u001b[49m\u001b[43m \u001b[49m\u001b[43mcovariates\u001b[49m\u001b[43m)\u001b[49m\n\u001b[1;32m     10\u001b[0m c_describe \u001b[38;5;241m=\u001b[39m c_describe[[\u001b[38;5;124m'\u001b[39m\u001b[38;5;124mmean\u001b[39m\u001b[38;5;124m'\u001b[39m, \u001b[38;5;124m'\u001b[39m\u001b[38;5;124mstd\u001b[39m\u001b[38;5;124m'\u001b[39m]]\n\u001b[1;32m     11\u001b[0m c_describe\u001b[38;5;241m.\u001b[39minsert(\u001b[38;5;241m0\u001b[39m, \u001b[38;5;124m'\u001b[39m\u001b[38;5;124mCovar\u001b[39m\u001b[38;5;124m'\u001b[39m, covariates)\n",
      "File \u001b[0;32m/Library/Frameworks/Python.framework/Versions/3.11/lib/python3.11/site-packages/pandas/core/frame.py:4776\u001b[0m, in \u001b[0;36mDataFrame.insert\u001b[0;34m(self, loc, column, value, allow_duplicates)\u001b[0m\n\u001b[1;32m   4773\u001b[0m \u001b[38;5;28;01mif\u001b[39;00m \u001b[38;5;129;01mnot\u001b[39;00m \u001b[38;5;28misinstance\u001b[39m(loc, \u001b[38;5;28mint\u001b[39m):\n\u001b[1;32m   4774\u001b[0m     \u001b[38;5;28;01mraise\u001b[39;00m \u001b[38;5;167;01mTypeError\u001b[39;00m(\u001b[38;5;124m\"\u001b[39m\u001b[38;5;124mloc must be int\u001b[39m\u001b[38;5;124m\"\u001b[39m)\n\u001b[0;32m-> 4776\u001b[0m value \u001b[38;5;241m=\u001b[39m \u001b[38;5;28;43mself\u001b[39;49m\u001b[38;5;241;43m.\u001b[39;49m\u001b[43m_sanitize_column\u001b[49m\u001b[43m(\u001b[49m\u001b[43mvalue\u001b[49m\u001b[43m)\u001b[49m\n\u001b[1;32m   4777\u001b[0m \u001b[38;5;28mself\u001b[39m\u001b[38;5;241m.\u001b[39m_mgr\u001b[38;5;241m.\u001b[39minsert(loc, column, value)\n",
      "File \u001b[0;32m/Library/Frameworks/Python.framework/Versions/3.11/lib/python3.11/site-packages/pandas/core/frame.py:4870\u001b[0m, in \u001b[0;36mDataFrame._sanitize_column\u001b[0;34m(self, value)\u001b[0m\n\u001b[1;32m   4867\u001b[0m     \u001b[38;5;28;01mreturn\u001b[39;00m _reindex_for_setitem(Series(value), \u001b[38;5;28mself\u001b[39m\u001b[38;5;241m.\u001b[39mindex)\n\u001b[1;32m   4869\u001b[0m \u001b[38;5;28;01mif\u001b[39;00m is_list_like(value):\n\u001b[0;32m-> 4870\u001b[0m     \u001b[43mcom\u001b[49m\u001b[38;5;241;43m.\u001b[39;49m\u001b[43mrequire_length_match\u001b[49m\u001b[43m(\u001b[49m\u001b[43mvalue\u001b[49m\u001b[43m,\u001b[49m\u001b[43m \u001b[49m\u001b[38;5;28;43mself\u001b[39;49m\u001b[38;5;241;43m.\u001b[39;49m\u001b[43mindex\u001b[49m\u001b[43m)\u001b[49m\n\u001b[1;32m   4871\u001b[0m \u001b[38;5;28;01mreturn\u001b[39;00m sanitize_array(value, \u001b[38;5;28mself\u001b[39m\u001b[38;5;241m.\u001b[39mindex, copy\u001b[38;5;241m=\u001b[39m\u001b[38;5;28;01mTrue\u001b[39;00m, allow_2d\u001b[38;5;241m=\u001b[39m\u001b[38;5;28;01mTrue\u001b[39;00m)\n",
      "File \u001b[0;32m/Library/Frameworks/Python.framework/Versions/3.11/lib/python3.11/site-packages/pandas/core/common.py:576\u001b[0m, in \u001b[0;36mrequire_length_match\u001b[0;34m(data, index)\u001b[0m\n\u001b[1;32m    572\u001b[0m \u001b[38;5;250m\u001b[39m\u001b[38;5;124;03m\"\"\"\u001b[39;00m\n\u001b[1;32m    573\u001b[0m \u001b[38;5;124;03mCheck the length of data matches the length of the index.\u001b[39;00m\n\u001b[1;32m    574\u001b[0m \u001b[38;5;124;03m\"\"\"\u001b[39;00m\n\u001b[1;32m    575\u001b[0m \u001b[38;5;28;01mif\u001b[39;00m \u001b[38;5;28mlen\u001b[39m(data) \u001b[38;5;241m!=\u001b[39m \u001b[38;5;28mlen\u001b[39m(index):\n\u001b[0;32m--> 576\u001b[0m     \u001b[38;5;28;01mraise\u001b[39;00m \u001b[38;5;167;01mValueError\u001b[39;00m(\n\u001b[1;32m    577\u001b[0m         \u001b[38;5;124m\"\u001b[39m\u001b[38;5;124mLength of values \u001b[39m\u001b[38;5;124m\"\u001b[39m\n\u001b[1;32m    578\u001b[0m         \u001b[38;5;124mf\u001b[39m\u001b[38;5;124m\"\u001b[39m\u001b[38;5;124m(\u001b[39m\u001b[38;5;132;01m{\u001b[39;00m\u001b[38;5;28mlen\u001b[39m(data)\u001b[38;5;132;01m}\u001b[39;00m\u001b[38;5;124m) \u001b[39m\u001b[38;5;124m\"\u001b[39m\n\u001b[1;32m    579\u001b[0m         \u001b[38;5;124m\"\u001b[39m\u001b[38;5;124mdoes not match length of index \u001b[39m\u001b[38;5;124m\"\u001b[39m\n\u001b[1;32m    580\u001b[0m         \u001b[38;5;124mf\u001b[39m\u001b[38;5;124m\"\u001b[39m\u001b[38;5;124m(\u001b[39m\u001b[38;5;132;01m{\u001b[39;00m\u001b[38;5;28mlen\u001b[39m(index)\u001b[38;5;132;01m}\u001b[39;00m\u001b[38;5;124m)\u001b[39m\u001b[38;5;124m\"\u001b[39m\n\u001b[1;32m    581\u001b[0m     )\n",
      "\u001b[0;31mValueError\u001b[0m: Length of values (7) does not match length of index (6)"
     ]
    }
   ],
   "source": [
    "covariates = ['size', 'contributors', 'watchers', 'forks', 'stargazers', 'age', 'age_days']\n",
    "t_describe = df_treatment.drop(['age'], axis=1).describe().T\n",
    "c_describe = df_control.drop(['age'], axis=1).describe().T\n",
    "print(t_describe)\n",
    "# print(c_describe)\n",
    "\n",
    "t_describe = t_describe[['mean', 'std']]\n",
    "t_describe.insert(0, 'Covar', covariates)\n",
    "\n",
    "c_describe = c_describe[['mean', 'std']]\n",
    "c_describe.insert(0, 'Covar', covariates)\n",
    "\n",
    "\n",
    "print(t_describe.to_latex(index=False, float_format='%.2f'))\n",
    "\n",
    "print(c_describe.to_latex(index=False, float_format='%.2f'))\n"
   ]
  },
  {
   "cell_type": "code",
   "execution_count": 197,
   "metadata": {},
   "outputs": [
    {
     "name": "stdout",
     "output_type": "stream",
     "text": [
      "size t: 2.376176783544982, p: 0.01797276226029931\n",
      "contributors t: nan, p: nan\n",
      "watchers t: 4.342241938992239, p: 1.7978705112019133e-05\n",
      "forks t: 4.104189472503535, p: 4.938528500304072e-05\n",
      "stargazers t: 4.431650057718905, p: 1.2153241262896627e-05\n",
      "age t: 3.499126303155376, p: 0.0005203658668561557\n",
      "age_days t: 3.4991263031553785, p: 0.0005203658668561509\n",
      "\\begin{tabular}{lrr}\n",
      "\\toprule\n",
      "Covariate & t & p \\\\\n",
      "\\midrule\n",
      "size & 2.38 & 0.02 \\\\\n",
      "contributors & NaN & NaN \\\\\n",
      "watchers & 4.34 & 0.00 \\\\\n",
      "forks & 4.10 & 0.00 \\\\\n",
      "stargazers & 4.43 & 0.00 \\\\\n",
      "age & 3.50 & 0.00 \\\\\n",
      "age_days & 3.50 & 0.00 \\\\\n",
      "\\bottomrule\n",
      "\\end{tabular}\n",
      "\n"
     ]
    }
   ],
   "source": [
    "# run t test for covariate balance between treatment and control\n",
    "from scipy.stats import ttest_ind\n",
    "\n",
    "test_results = []\n",
    "for covar in covariates:\n",
    "    t, p = ttest_ind(df_treatment[covar], df_control[covar])\n",
    "    test_results.append((covar, t, p))\n",
    "    print(f'{covar} t: {t}, p: {p}')\n",
    "    print(f'{covar} t: {t}, p: {p}', file=open('covariate_balance.txt', 'a'))\n",
    "\n",
    "print(pd.DataFrame(test_results, columns=['Covariate', 't', 'p']).to_latex(index=False, float_format='%.2f'))\n"
   ]
  }
 ],
 "metadata": {
  "kernelspec": {
   "display_name": "Python 3",
   "language": "python",
   "name": "python3"
  },
  "language_info": {
   "codemirror_mode": {
    "name": "ipython",
    "version": 3
   },
   "file_extension": ".py",
   "mimetype": "text/x-python",
   "name": "python",
   "nbconvert_exporter": "python",
   "pygments_lexer": "ipython3",
   "version": "3.11.3"
  }
 },
 "nbformat": 4,
 "nbformat_minor": 2
}
