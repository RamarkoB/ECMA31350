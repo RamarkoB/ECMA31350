{
 "cells": [
  {
   "cell_type": "code",
   "execution_count": 2,
   "metadata": {},
   "outputs": [],
   "source": [
    "import json\n",
    "import pandas as pd\n",
    "import numpy as np"
   ]
  },
  {
   "cell_type": "code",
   "execution_count": 318,
   "metadata": {},
   "outputs": [],
   "source": [
    "# Specify the covariates file to use\n",
    "covariates_file = 'all-covariates.json'\n",
    "\n",
    "# specify the treatments file to use\n",
    "treatments_file = '../data/treated-repo-ids.csv'\n",
    "\n",
    "# Specify exact treatment date\n",
    "treatment_date = '2016-02-17 00:00:00 UTC'\n"
   ]
  },
  {
   "cell_type": "code",
   "execution_count": 231,
   "metadata": {},
   "outputs": [],
   "source": [
    "df_raw = pd.read_json(covariates_file)"
   ]
  },
  {
   "cell_type": "code",
   "execution_count": 244,
   "metadata": {},
   "outputs": [
    {
     "name": "stdout",
     "output_type": "stream",
     "text": [
      "Index(['id', 'node_id', 'name', 'full_name', 'private', 'owner', 'html_url',\n",
      "       'description', 'fork', 'url', 'forks_url', 'keys_url',\n",
      "       'collaborators_url', 'teams_url', 'hooks_url', 'issue_events_url',\n",
      "       'events_url', 'assignees_url', 'branches_url', 'tags_url', 'blobs_url',\n",
      "       'git_tags_url', 'git_refs_url', 'trees_url', 'statuses_url',\n",
      "       'languages_url', 'stargazers_url', 'contributors_url',\n",
      "       'subscribers_url', 'subscription_url', 'commits_url', 'git_commits_url',\n",
      "       'comments_url', 'issue_comment_url', 'contents_url', 'compare_url',\n",
      "       'merges_url', 'archive_url', 'downloads_url', 'issues_url', 'pulls_url',\n",
      "       'milestones_url', 'notifications_url', 'labels_url', 'releases_url',\n",
      "       'deployments_url', 'created_at', 'updated_at', 'pushed_at', 'git_url',\n",
      "       'ssh_url', 'clone_url', 'svn_url', 'homepage', 'size',\n",
      "       'stargazers_count', 'watchers_count', 'language', 'has_issues',\n",
      "       'has_projects', 'has_downloads', 'has_wiki', 'has_pages',\n",
      "       'has_discussions', 'forks_count', 'mirror_url', 'archived', 'disabled',\n",
      "       'open_issues_count', 'license', 'allow_forking', 'is_template',\n",
      "       'web_commit_signoff_required', 'topics', 'visibility', 'forks',\n",
      "       'open_issues', 'watchers', 'default_branch', 'permissions',\n",
      "       'temp_clone_token', 'custom_properties', 'organization',\n",
      "       'network_count', 'subscribers_count', 'parent', 'source'],\n",
      "      dtype='object')\n",
      "153\n"
     ]
    }
   ],
   "source": [
    "print(df_raw.columns)\n",
    "df_raw.head()\n",
    "\n",
    "print(df_raw['name'])"
   ]
  },
  {
   "cell_type": "code",
   "execution_count": 339,
   "metadata": {},
   "outputs": [],
   "source": [
    "def filter_language(langs):\n",
    "    # langs is a dictionary of languages and their bytes\n",
    "    # we want to return the most used language\n",
    "    if not langs:\n",
    "        return 'None'\n",
    "    else:\n",
    "        return max(langs, key=langs.get)\n",
    "\n",
    "def get_age_seconds(age):\n",
    "    # returns the age of a repo in seconds, as of the treatment date\n",
    "    return (pd.to_datetime(treatment_date) - pd.to_datetime(age)).total_seconds()\n",
    "\n",
    "\n",
    "def kb_to_mb(kb):\n",
    "    # converts kb to megabytes\n",
    "    return kb / 1024"
   ]
  },
  {
   "cell_type": "code",
   "execution_count": 354,
   "metadata": {},
   "outputs": [
    {
     "name": "stderr",
     "output_type": "stream",
     "text": [
      "/var/folders/16/f2lcjdn174n2mbc1pd7lybzc0000gn/T/ipykernel_45966/3449836300.py:8: SettingWithCopyWarning: \n",
      "A value is trying to be set on a copy of a slice from a DataFrame.\n",
      "Try using .loc[row_indexer,col_indexer] = value instead\n",
      "\n",
      "See the caveats in the documentation: https://pandas.pydata.org/pandas-docs/stable/user_guide/indexing.html#returning-a-view-versus-a-copy\n",
      "  df_filtered['age'] = df_raw['created_at'].apply(get_age_seconds)\n",
      "/var/folders/16/f2lcjdn174n2mbc1pd7lybzc0000gn/T/ipykernel_45966/3449836300.py:10: SettingWithCopyWarning: \n",
      "A value is trying to be set on a copy of a slice from a DataFrame.\n",
      "Try using .loc[row_indexer,col_indexer] = value instead\n",
      "\n",
      "See the caveats in the documentation: https://pandas.pydata.org/pandas-docs/stable/user_guide/indexing.html#returning-a-view-versus-a-copy\n",
      "  df_filtered['age_days'] = df_filtered['age'] / (60*60*24)\n",
      "/var/folders/16/f2lcjdn174n2mbc1pd7lybzc0000gn/T/ipykernel_45966/3449836300.py:13: SettingWithCopyWarning: \n",
      "A value is trying to be set on a copy of a slice from a DataFrame.\n",
      "Try using .loc[row_indexer,col_indexer] = value instead\n",
      "\n",
      "See the caveats in the documentation: https://pandas.pydata.org/pandas-docs/stable/user_guide/indexing.html#returning-a-view-versus-a-copy\n",
      "  df_filtered['size_mb'] = df_filtered['size'].apply(kb_to_mb)\n"
     ]
    }
   ],
   "source": [
    "# opvs are the covariates we are interested in\n",
    "opvs = ['id', 'name', 'size', 'watchers',\n",
    "        'forks', 'stargazers_count', 'created_at',\n",
    "        'license', 'language']\n",
    "df_filtered = df_raw[opvs]\n",
    "\n",
    "# get the age of the repo in days\n",
    "df_filtered['age'] = df_raw['created_at'].apply(get_age_seconds)\n",
    "# convert the age to days\n",
    "df_filtered['age_days'] = df_filtered['age'] / (60*60*24)\n",
    "\n",
    "# convert the size in bytes to megabytes\n",
    "df_filtered['size_mb'] = df_filtered['size'].apply(kb_to_mb)\n",
    "\n",
    "# drop rows where age is negative\n",
    "df_filtered = df_filtered[df_filtered['age'] > 0]\n",
    "\n",
    "df_final = df_filtered.drop(['created_at', 'age'], axis=1)\n"
   ]
  },
  {
   "cell_type": "code",
   "execution_count": 359,
   "metadata": {},
   "outputs": [
    {
     "name": "stdout",
     "output_type": "stream",
     "text": [
      "0          8514\n",
      "1         65252\n",
      "2        108278\n",
      "3        143580\n",
      "4        156018\n",
      "         ...   \n",
      "489    44662669\n",
      "490    45195614\n",
      "491    45717250\n",
      "492    45936895\n",
      "493    48602252\n",
      "Name: repo_id, Length: 494, dtype: int64\n",
      "494\n"
     ]
    }
   ],
   "source": [
    "# filter the raw data frame, selecting only repositories of interest\n",
    "id_treat= pd.read_csv(treatments_file)\n",
    "print(id_treat.repo_id)\n",
    "\n",
    "df_final = df_final[df_final['id'].isin(id_treat.repo_id)]\n",
    "\n",
    "df_final = df_final.drop_duplicates(subset='id', keep='first')\n",
    "print(len(df_final))"
   ]
  },
  {
   "cell_type": "code",
   "execution_count": 426,
   "metadata": {},
   "outputs": [
    {
     "name": "stdout",
     "output_type": "stream",
     "text": [
      "\\begin{tabular}{lrrrrrrrr}\n",
      "\\toprule\n",
      "Covar & mean & std & min & 25% & 50% & 75% & max & se \\\\\n",
      "\\midrule\n",
      "Watchers & 18234 & 32237 & 0 & 1984 & 7934 & 21966 & 384703 & 1450 \\\\\n",
      "Forks & 4406 & 8162 & 0 & 556 & 1808 & 4104 & 78317 & 367 \\\\\n",
      "Stars & 18234 & 32237 & 0 & 1984 & 7934 & 21966 & 384703 & 1450 \\\\\n",
      "Age (days) & 1006 & 599 & 53 & 510 & 880 & 1427 & 2868 & 27 \\\\\n",
      "Size (MB) & 387 & 2262 & 0 & 28 & 93 & 247 & 47707 & 102 \\\\\n",
      "\\bottomrule\n",
      "\\end{tabular}\n",
      "\n",
      "494\n"
     ]
    }
   ],
   "source": [
    "covariates_of_interest = ['Watchers', 'Forks', 'Stars', 'Age (days)', 'Size (MB)']\n",
    "# get sample summary statistics, and convert to latex\n",
    "summary = df_final.describe()\n",
    "# print(summary)\n",
    "summary.drop(['id', 'size'], axis=1, inplace=True)\n",
    "summary.drop(['count'], axis=0, inplace=True)\n",
    "# print(summary.to_latex())\n",
    "transposed = summary.T\n",
    "\n",
    "transposed['se'] = transposed['std'] / np.sqrt(len(df_final))\n",
    "transposed.insert(0, 'Covar', covariates_of_interest)\n",
    "\n",
    "print(transposed.to_latex(index=False, float_format='%0.0f'))\n",
    "print(len(df_final))\n"
   ]
  },
  {
   "cell_type": "code",
   "execution_count": 369,
   "metadata": {},
   "outputs": [
    {
     "name": "stdout",
     "output_type": "stream",
     "text": [
      "165\n"
     ]
    }
   ],
   "source": [
    "# get list of treated repos\n",
    "treated = []\n",
    "for i, values in id_treat.iterrows():\n",
    "    # skip if v is NaT\n",
    "    if values['treat'] == 0:\n",
    "        continue\n",
    "    \n",
    "    treated.append(values['repo_id'])\n",
    "\n",
    "print(len(treated))"
   ]
  },
  {
   "cell_type": "code",
   "execution_count": 372,
   "metadata": {},
   "outputs": [
    {
     "name": "stdout",
     "output_type": "stream",
     "text": [
      "165\n",
      "329\n",
      "494\n"
     ]
    }
   ],
   "source": [
    "df_w_treatment = pd.merge(df_final, id_treat, left_on='id', right_on='repo_id')\n",
    "\n",
    "\n",
    "df_treatment = df_w_treatment[df_w_treatment['treat'] == 1]\n",
    "df_control = df_w_treatment[df_w_treatment['treat'] == 0]\n",
    "print(len(df_treatment))\n",
    "# print(df_treatment.head())\n",
    "print(len(df_control))\n",
    "# print(df_control.head())\n",
    "\n",
    "print(len(df_treatment) + len(df_control))"
   ]
  },
  {
   "cell_type": "code",
   "execution_count": 376,
   "metadata": {},
   "outputs": [
    {
     "name": "stdout",
     "output_type": "stream",
     "text": [
      "                 id          size       watchers         forks  \\\n",
      "count  1.650000e+02  1.650000e+02     165.000000    165.000000   \n",
      "mean   1.348359e+07  3.634871e+05   28709.048485   6852.503030   \n",
      "std    1.198082e+07  6.105980e+05   44137.483206  10010.641011   \n",
      "min    8.514000e+03  3.610000e+02     204.000000     58.000000   \n",
      "25%    3.620194e+06  3.557100e+04    5457.000000   1229.000000   \n",
      "50%    9.306568e+06  1.314460e+05   12460.000000   3154.000000   \n",
      "75%    2.024939e+07  3.381710e+05   33859.000000   6919.000000   \n",
      "max    4.860225e+07  4.037080e+06  384703.000000  73731.000000   \n",
      "\n",
      "       stargazers_count     age_days      size_mb       repo_id  treat  \n",
      "count        165.000000   165.000000   165.000000  1.650000e+02  165.0  \n",
      "mean       28709.048485  1072.430654   354.967839  1.348359e+07    1.0  \n",
      "std        44137.483206   589.195931   596.287067  1.198082e+07    0.0  \n",
      "min          204.000000    52.712176     0.352539  8.514000e+03    1.0  \n",
      "25%         5457.000000   629.670914    34.737305  3.620194e+06    1.0  \n",
      "50%        12460.000000  1044.130093   128.365234  9.306568e+06    1.0  \n",
      "75%        33859.000000  1444.220000   330.245117  2.024939e+07    1.0  \n",
      "max       384703.000000  2867.902928  3942.460938  4.860225e+07    1.0  \n"
     ]
    }
   ],
   "source": [
    "print(df_treatment.describe())"
   ]
  },
  {
   "cell_type": "code",
   "execution_count": 424,
   "metadata": {},
   "outputs": [
    {
     "name": "stdout",
     "output_type": "stream",
     "text": [
      "                          mean           std         min          25%  \\\n",
      "watchers          28709.048485  44137.483206  204.000000  5457.000000   \n",
      "forks              6852.503030  10010.641011   58.000000  1229.000000   \n",
      "stargazers_count  28709.048485  44137.483206  204.000000  5457.000000   \n",
      "age_days           1072.430654    589.195931   52.712176   629.670914   \n",
      "size_mb             354.967839    596.287067    0.352539    34.737305   \n",
      "\n",
      "                           50%           75%            max  \n",
      "watchers          12460.000000  33859.000000  384703.000000  \n",
      "forks              3154.000000   6919.000000   73731.000000  \n",
      "stargazers_count  12460.000000  33859.000000  384703.000000  \n",
      "age_days           1044.130093   1444.220000    2867.902928  \n",
      "size_mb             128.365234    330.245117    3942.460938  \n",
      "\\begin{tabular}{lrr}\n",
      "\\toprule\n",
      "Covar. & mean & se \\\\\n",
      "\\midrule\n",
      "Watchers & 28709 & 3436 \\\\\n",
      "Forks & 6853 & 779 \\\\\n",
      "Stars & 28709 & 3436 \\\\\n",
      "age (days) & 1072 & 46 \\\\\n",
      "Size (MB) & 355 & 46 \\\\\n",
      "\\bottomrule\n",
      "\\end{tabular}\n",
      "\n",
      "\\begin{tabular}{lrr}\n",
      "\\toprule\n",
      "Covar. & mean & se \\\\\n",
      "\\midrule\n",
      "Watchers & 12980 & 1239 \\\\\n",
      "Forks & 3180 & 372 \\\\\n",
      "Stars & 12980 & 1239 \\\\\n",
      "age (days) & 972 & 33 \\\\\n",
      "Size (MB) & 403 & 151 \\\\\n",
      "\\bottomrule\n",
      "\\end{tabular}\n",
      "\n",
      "165\n",
      "329\n"
     ]
    }
   ],
   "source": [
    "# get summary statistics of each group\n",
    "\n",
    "covariates = ['watchers', 'forks', 'stargazers_count', 'age_days', 'size_mb']\n",
    "covar_names = ['Watchers', 'Forks', 'Stars', 'age (days)', 'Size (MB)']\n",
    "\n",
    "\n",
    "t_describe = df_treatment.drop(['size', 'treat', 'repo_id', 'id'], axis=1).describe().drop(['count'], axis=0).T\n",
    "print(t_describe)\n",
    "c_describe = df_control.drop(['size', 'treat', 'repo_id', 'id'], axis=1).describe().drop(['count'], axis=0).T\n",
    "\n",
    "t_describe = t_describe[['mean', 'std']]\n",
    "t_describe['se'] = t_describe['std'] / np.sqrt(len(df_treatment))\n",
    "t_describe.drop(['std'], axis=1, inplace=True)\n",
    "\n",
    "c_describe = c_describe[['mean', 'std']]\n",
    "c_describe['se'] = c_describe['std'] / np.sqrt(len(df_control))\n",
    "c_describe.drop(['std'], axis=1, inplace=True)\n",
    "\n",
    "t_describe.insert(0, 'Covar.', covar_names)\n",
    "c_describe.insert(0, 'Covar.', covar_names)\n",
    "\n",
    "print(t_describe.to_latex(index=False, float_format='%.0f'))\n",
    "print(c_describe.to_latex(index=False, float_format='%.0f'))\n",
    "\n",
    "print(len(df_treatment))\n",
    "print(len(df_control))\n"
   ]
  },
  {
   "cell_type": "code",
   "execution_count": 419,
   "metadata": {},
   "outputs": [
    {
     "name": "stdout",
     "output_type": "stream",
     "text": [
      "\\begin{tabular}{lrr}\n",
      "\\toprule\n",
      "Covariate & t & p \\\\\n",
      "\\midrule\n",
      "watchers & 5.25 & 0.00 \\\\\n",
      "forks & 4.82 & 0.00 \\\\\n",
      "stargazers_count & 5.25 & 0.00 \\\\\n",
      "age_days & 1.76 & 0.08 \\\\\n",
      "size_mb & -0.22 & 0.82 \\\\\n",
      "\\bottomrule\n",
      "\\end{tabular}\n",
      "\n"
     ]
    }
   ],
   "source": [
    "# run t test for covariate balance between treatment and control\n",
    "from scipy.stats import ttest_ind\n",
    "\n",
    "test_results = []\n",
    "for covar in covariates:\n",
    "    t, p = ttest_ind(df_treatment[covar], df_control[covar], nan_policy='omit')\n",
    "    test_results.append((covar, t, p))\n",
    "\n",
    "print(pd.DataFrame(test_results, columns=['Covariate', 't', 'p']).to_latex(index=False, float_format='%.2f'))\n"
   ]
  },
  {
   "cell_type": "code",
   "execution_count": null,
   "metadata": {},
   "outputs": [],
   "source": [
    "# randomly select 10 repositories\n",
    "\n",
    "print(df_final.sample(10))"
   ]
  }
 ],
 "metadata": {
  "kernelspec": {
   "display_name": "Python 3",
   "language": "python",
   "name": "python3"
  },
  "language_info": {
   "codemirror_mode": {
    "name": "ipython",
    "version": 3
   },
   "file_extension": ".py",
   "mimetype": "text/x-python",
   "name": "python",
   "nbconvert_exporter": "python",
   "pygments_lexer": "ipython3",
   "version": "3.11.3"
  }
 },
 "nbformat": 4,
 "nbformat_minor": 2
}
