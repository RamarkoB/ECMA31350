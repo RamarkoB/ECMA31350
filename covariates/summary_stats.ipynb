{
 "cells": [
  {
   "cell_type": "code",
   "execution_count": 2,
   "metadata": {},
   "outputs": [],
   "source": [
    "import json\n",
    "import pandas as pd\n",
    "import numpy as np"
   ]
  },
  {
   "cell_type": "code",
   "execution_count": 3,
   "metadata": {},
   "outputs": [],
   "source": [
    "# Specify the covariates file to use\n",
    "covariates_file = 'covariates.json'"
   ]
  },
  {
   "cell_type": "code",
   "execution_count": 5,
   "metadata": {},
   "outputs": [],
   "source": [
    "df_raw = pd.read_json(covariates_file)"
   ]
  },
  {
   "cell_type": "code",
   "execution_count": 9,
   "metadata": {},
   "outputs": [
    {
     "name": "stdout",
     "output_type": "stream",
     "text": [
      "Index(['id', 'name', 'isFork', 'commits', 'branches', 'releases', 'forks',\n",
      "       'mainLanguage', 'defaultBranch', 'license', 'homepage', 'watchers',\n",
      "       'stargazers', 'contributors', 'size', 'createdAt', 'pushedAt',\n",
      "       'updatedAt', 'totalIssues', 'openIssues', 'totalPullRequests',\n",
      "       'openPullRequests', 'blankLines', 'codeLines', 'commentLines',\n",
      "       'metrics', 'lastCommit', 'lastCommitSHA', 'hasWiki', 'isArchived',\n",
      "       'isDisabled', 'isLocked', 'languages', 'labels', 'topics'],\n",
      "      dtype='object')\n",
      "0      2009-12-10T12:51:14\n",
      "1      2010-05-17T09:27:02\n",
      "2      2010-09-06T09:39:43\n",
      "3      2010-11-09T09:22:21\n",
      "4      2011-02-04T02:40:00\n",
      "              ...         \n",
      "389    2015-08-04T07:01:06\n",
      "390    2014-02-06T12:18:47\n",
      "391    2014-06-06T10:56:04\n",
      "392    2012-06-04T02:49:46\n",
      "393    2013-12-14T09:47:37\n",
      "Name: createdAt, Length: 394, dtype: object\n"
     ]
    }
   ],
   "source": [
    "# print(df_raw.columns)"
   ]
  },
  {
   "cell_type": "code",
   "execution_count": 30,
   "metadata": {},
   "outputs": [],
   "source": [
    "def filter_language(langs):\n",
    "    # langs is a dictionary of languages and their bytes\n",
    "    # we want to return the most used language\n",
    "    if not langs:\n",
    "        return 'None'\n",
    "    else:\n",
    "        return max(langs, key=langs.get)\n",
    "\n",
    "def get_age_seconds(age):\n",
    "    # returns the age of a repo in seconds\n",
    "    return (pd.to_datetime('today') - pd.to_datetime(age)).total_seconds()\n"
   ]
  },
  {
   "cell_type": "code",
   "execution_count": 223,
   "metadata": {},
   "outputs": [
    {
     "name": "stderr",
     "output_type": "stream",
     "text": [
      "/var/folders/16/f2lcjdn174n2mbc1pd7lybzc0000gn/T/ipykernel_45966/1925979184.py:9: SettingWithCopyWarning: \n",
      "A value is trying to be set on a copy of a slice from a DataFrame.\n",
      "Try using .loc[row_indexer,col_indexer] = value instead\n",
      "\n",
      "See the caveats in the documentation: https://pandas.pydata.org/pandas-docs/stable/user_guide/indexing.html#returning-a-view-versus-a-copy\n",
      "  df_filtered['language'] = df_raw['languages'].apply(filter_language)\n",
      "/var/folders/16/f2lcjdn174n2mbc1pd7lybzc0000gn/T/ipykernel_45966/1925979184.py:11: SettingWithCopyWarning: \n",
      "A value is trying to be set on a copy of a slice from a DataFrame.\n",
      "Try using .loc[row_indexer,col_indexer] = value instead\n",
      "\n",
      "See the caveats in the documentation: https://pandas.pydata.org/pandas-docs/stable/user_guide/indexing.html#returning-a-view-versus-a-copy\n",
      "  df_filtered['age'] = df_raw['createdAt'].apply(get_age_seconds)\n",
      "/var/folders/16/f2lcjdn174n2mbc1pd7lybzc0000gn/T/ipykernel_45966/1925979184.py:13: SettingWithCopyWarning: \n",
      "A value is trying to be set on a copy of a slice from a DataFrame.\n",
      "Try using .loc[row_indexer,col_indexer] = value instead\n",
      "\n",
      "See the caveats in the documentation: https://pandas.pydata.org/pandas-docs/stable/user_guide/indexing.html#returning-a-view-versus-a-copy\n",
      "  df_filtered['age_days'] = df_filtered['age'] / (60*60*24)\n"
     ]
    }
   ],
   "source": [
    "# opvs are the covariates we are interested in\n",
    "opvs = ['name', 'size', 'contributors', 'watchers',\n",
    "        'forks', 'stargazers', 'createdAt',\n",
    "        'license', 'languages']\n",
    "\n",
    "df_filtered = df_raw[opvs]\n",
    "\n",
    "# get the most used language\n",
    "df_filtered['language'] = df_raw['languages'].apply(filter_language)\n",
    "# get the age of the repo in days\n",
    "df_filtered['age'] = df_raw['createdAt'].apply(get_age_seconds)\n",
    "# convert the age to days\n",
    "df_filtered['age_days'] = df_filtered['age'] / (60*60*24)\n",
    "df_final = df_filtered.drop(['languages'], axis=1)\n",
    "\n",
    "\n",
    "# print(df_final.head())"
   ]
  },
  {
   "cell_type": "code",
   "execution_count": 225,
   "metadata": {},
   "outputs": [
    {
     "name": "stdout",
     "output_type": "stream",
     "text": [
      "\\begin{tabular}{lrrrrrrr}\n",
      "\\toprule\n",
      " & size & contributors & watchers & forks & stargazers & age & age_days \\\\\n",
      "\\midrule\n",
      "count & 394.000000 & 393.000000 & 394.000000 & 394.000000 & 394.000000 & 394.000000 & 394.000000 \\\\\n",
      "mean & 256293.167513 & 204.608142 & 564.251269 & 4101.934010 & 17251.862944 & 337126370.057169 & 3901.925579 \\\\\n",
      "std & 525664.305803 & 146.514327 & 1005.098236 & 8527.580280 & 34180.806563 & 54610608.144787 & 632.067224 \\\\\n",
      "min & 15.000000 & 1.000000 & 0.000000 & 2.000000 & 10.000000 & 56447613.326101 & 653.328858 \\\\\n",
      "25% & 31868.000000 & 76.000000 & 86.250000 & 426.250000 & 1450.000000 & 294301686.079039 & 3406.269515 \\\\\n",
      "50% & 91607.500000 & 181.000000 & 253.500000 & 1432.000000 & 6520.500000 & 329480577.286973 & 3813.432607 \\\\\n",
      "75% & 238346.250000 & 341.000000 & 601.000000 & 3748.500000 & 18226.000000 & 373068917.018838 & 4317.927280 \\\\\n",
      "max & 5882661.000000 & 1230.000000 & 8503.000000 & 78315.000000 & 384563.000000 & 502034098.328888 & 5810.579842 \\\\\n",
      "\\bottomrule\n",
      "\\end{tabular}\n",
      "\n",
      "\\begin{tabular}{rrrrrrr}\n",
      "\\toprule\n",
      "mean & std & min & 25% & 50% & 75% & max \\\\\n",
      "\\midrule\n",
      "256293.17 & 525664.31 & 15.00 & 31868.00 & 91607.50 & 238346.25 & 5882661.00 \\\\\n",
      "204.61 & 146.51 & 1.00 & 76.00 & 181.00 & 341.00 & 1230.00 \\\\\n",
      "564.25 & 1005.10 & 0.00 & 86.25 & 253.50 & 601.00 & 8503.00 \\\\\n",
      "4101.93 & 8527.58 & 2.00 & 426.25 & 1432.00 & 3748.50 & 78315.00 \\\\\n",
      "17251.86 & 34180.81 & 10.00 & 1450.00 & 6520.50 & 18226.00 & 384563.00 \\\\\n",
      "337126370.06 & 54610608.14 & 56447613.33 & 294301686.08 & 329480577.29 & 373068917.02 & 502034098.33 \\\\\n",
      "3901.93 & 632.07 & 653.33 & 3406.27 & 3813.43 & 4317.93 & 5810.58 \\\\\n",
      "\\bottomrule\n",
      "\\end{tabular}\n",
      "\n"
     ]
    }
   ],
   "source": [
    "# get sample summary statistics, and convert to latex\n",
    "\n",
    "summary = df_final.describe()\n",
    "\n",
    "print(summary.to_latex())\n",
    "transposed = summary.T\n",
    "transposed = transposed.drop(['count'], axis=1)\n",
    "\n",
    "\n",
    "print(transposed.to_latex(index=False, float_format='%.2f'))\n"
   ]
  },
  {
   "cell_type": "code",
   "execution_count": 226,
   "metadata": {},
   "outputs": [],
   "source": [
    "# specify file that contains treatment data\n",
    "treated_repos_data = '../data/treatment-new.json'\n"
   ]
  },
  {
   "cell_type": "code",
   "execution_count": 227,
   "metadata": {},
   "outputs": [
    {
     "name": "stdout",
     "output_type": "stream",
     "text": [
      "449\n"
     ]
    }
   ],
   "source": [
    "treated = []\n",
    "ser = pd.read_json(treated_repos_data, typ='series')\n",
    "\n",
    "for k, v in ser.items():\n",
    "    # skip if v is NaT\n",
    "    if pd.isnull(v):\n",
    "        continue\n",
    "    \n",
    "    treated.append('/'.join(k.split('--')))\n",
    "\n",
    "print(len(treated))"
   ]
  },
  {
   "cell_type": "code",
   "execution_count": 228,
   "metadata": {},
   "outputs": [
    {
     "name": "stdout",
     "output_type": "stream",
     "text": [
      "306\n",
      "88\n"
     ]
    }
   ],
   "source": [
    "df_treatment = []\n",
    "df_control = []\n",
    "for _, row in df_final.iterrows():\n",
    "    if row['name'] in treated:\n",
    "        df_treatment.append(row)\n",
    "    else:\n",
    "        df_control.append(row)\n",
    "\n",
    "\n",
    "df_treatment = pd.DataFrame(df_treatment)\n",
    "df_control = pd.DataFrame(df_control)\n",
    "print(len(df_treatment))\n",
    "# print(df_treatment.head())\n",
    "print(len(df_control))\n",
    "# print(df_control.head())\n"
   ]
  },
  {
   "cell_type": "code",
   "execution_count": 229,
   "metadata": {},
   "outputs": [
    {
     "name": "stdout",
     "output_type": "stream",
     "text": [
      "\\begin{tabular}{lrr}\n",
      "\\toprule\n",
      "Covar & mean & std \\\\\n",
      "\\midrule\n",
      "size & 289841.24 & 545256.81 \\\\\n",
      "contributors & 237.63 & 141.30 \\\\\n",
      "watchers & 679.57 & 1106.43 \\\\\n",
      "forks & 5028.98 & 9430.21 \\\\\n",
      "stargazers & 21250.56 & 37731.74 \\\\\n",
      "age_days & 3960.84 & 610.90 \\\\\n",
      "\\bottomrule\n",
      "\\end{tabular}\n",
      "\n",
      "\\begin{tabular}{lrr}\n",
      "\\toprule\n",
      "Covar & mean & std \\\\\n",
      "\\midrule\n",
      "size & 139637.36 & 433840.79 \\\\\n",
      "contributors & 88.47 & 97.55 \\\\\n",
      "watchers & 163.25 & 249.55 \\\\\n",
      "forks & 878.33 & 1787.74 \\\\\n",
      "stargazers & 3347.32 & 5894.43 \\\\\n",
      "age_days & 3697.06 & 664.59 \\\\\n",
      "\\bottomrule\n",
      "\\end{tabular}\n",
      "\n"
     ]
    }
   ],
   "source": [
    "# get summary statistics of each group\n",
    "\n",
    "covariates = ['size', 'contributors', 'watchers', 'forks', 'stargazers', 'age_days']\n",
    "\n",
    "t_describe = df_treatment.drop(['age'], axis=1).describe().T\n",
    "c_describe = df_control.drop(['age'], axis=1).describe().T\n",
    "\n",
    "t_describe = t_describe[['mean', 'std']]\n",
    "t_describe.insert(0, 'Covar', covariates)\n",
    "c_describe = c_describe[['mean', 'std']]\n",
    "\n",
    "c_describe.insert(0, 'Covar', covariates)\n",
    "\n",
    "\n",
    "print(t_describe.to_latex(index=False, float_format='%.2f'))\n",
    "print(c_describe.to_latex(index=False, float_format='%.2f'))\n"
   ]
  },
  {
   "cell_type": "code",
   "execution_count": 220,
   "metadata": {},
   "outputs": [
    {
     "name": "stdout",
     "output_type": "stream",
     "text": [
      "\\begin{tabular}{lrr}\n",
      "\\toprule\n",
      "Covariate & t & p \\\\\n",
      "\\midrule\n",
      "size & 2.38 & 0.02 \\\\\n",
      "contributors & 9.24 & 0.00 \\\\\n",
      "watchers & 4.34 & 0.00 \\\\\n",
      "forks & 4.10 & 0.00 \\\\\n",
      "stargazers & 4.43 & 0.00 \\\\\n",
      "age_days & 3.50 & 0.00 \\\\\n",
      "\\bottomrule\n",
      "\\end{tabular}\n",
      "\n"
     ]
    }
   ],
   "source": [
    "# run t test for covariate balance between treatment and control\n",
    "from scipy.stats import ttest_ind\n",
    "\n",
    "test_results = []\n",
    "for covar in covariates:\n",
    "    t, p = ttest_ind(df_treatment[covar], df_control[covar], nan_policy='omit')\n",
    "    test_results.append((covar, t, p))\n",
    "\n",
    "print(pd.DataFrame(test_results, columns=['Covariate', 't', 'p']).to_latex(index=False, float_format='%.2f'))\n"
   ]
  }
 ],
 "metadata": {
  "kernelspec": {
   "display_name": "Python 3",
   "language": "python",
   "name": "python3"
  },
  "language_info": {
   "codemirror_mode": {
    "name": "ipython",
    "version": 3
   },
   "file_extension": ".py",
   "mimetype": "text/x-python",
   "name": "python",
   "nbconvert_exporter": "python",
   "pygments_lexer": "ipython3",
   "version": "3.11.3"
  }
 },
 "nbformat": 4,
 "nbformat_minor": 2
}
