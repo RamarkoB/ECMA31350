{
 "cells": [
  {
   "cell_type": "code",
   "execution_count": 10,
   "metadata": {},
   "outputs": [],
   "source": [
    "import os\n",
    "import json\n",
    "import pandas as pd"
   ]
  },
  {
   "cell_type": "markdown",
   "metadata": {},
   "source": [
    "### Combining data downloaded from BigQuery"
   ]
  },
  {
   "cell_type": "code",
   "execution_count": 34,
   "metadata": {},
   "outputs": [],
   "source": [
    "folderpath = \"../data/issue-history/\"\n",
    "df_dict = {\n",
    "    \"created_at\": [],\n",
    "    \"repo_id\": [],\n",
    "    \"repo_name\": [],\n",
    "    \"action\": [],\n",
    "    \"state\": [],\n",
    "    \"id\": [],\n",
    "    \"opened\": [],\n",
    "    \"closed\": [],\n",
    "    \"comment_count\": [],\n",
    "    \"user_type\": [],\n",
    "    'author_association': [],\n",
    "    'number': [],\n",
    "    'reason': []\n",
    "}\n",
    "\n",
    "for file in os.listdir(folderpath):\n",
    "    fname = os.fsdecode(file)\n",
    "    \n",
    "    if fname == '.DS_Store':\n",
    "        continue\n",
    "\n",
    "    with open(folderpath + fname) as f:\n",
    "        for line in f.readlines():\n",
    "            json_dict = json.loads(line)\n",
    "            for key in df_dict:\n",
    "                if key in json_dict:\n",
    "                    df_dict[key].append(json_dict[key])\n",
    "                else:\n",
    "                    df_dict[key].append(None)"
   ]
  },
  {
   "cell_type": "code",
   "execution_count": 56,
   "metadata": {},
   "outputs": [],
   "source": [
    "df = pd.DataFrame(df_dict)"
   ]
  },
  {
   "cell_type": "code",
   "execution_count": 51,
   "metadata": {},
   "outputs": [],
   "source": [
    "df['opened'] = pd.to_datetime(df['opened']).dt.tz_localize(None)\n",
    "df = df[(pd.to_datetime('2015-01-01') <= df['opened']) & (df['opened'] <= pd.to_datetime('2017-12-31'))]"
   ]
  },
  {
   "cell_type": "code",
   "execution_count": 52,
   "metadata": {},
   "outputs": [],
   "source": [
    "df.rename(columns={\"repo_name\": \"name\"}).to_csv('../data/issue-history/issue-history-all.csv', index=False)"
   ]
  }
 ],
 "metadata": {
  "kernelspec": {
   "display_name": "mlproj",
   "language": "python",
   "name": "python3"
  },
  "language_info": {
   "codemirror_mode": {
    "name": "ipython",
    "version": 3
   },
   "file_extension": ".py",
   "mimetype": "text/x-python",
   "name": "python",
   "nbconvert_exporter": "python",
   "pygments_lexer": "ipython3",
   "version": "3.11.8"
  }
 },
 "nbformat": 4,
 "nbformat_minor": 2
}
