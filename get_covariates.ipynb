{
 "cells": [
  {
   "cell_type": "code",
   "execution_count": 4,
   "metadata": {},
   "outputs": [],
   "source": [
    "import requests\n",
    "import json"
   ]
  },
  {
   "cell_type": "code",
   "execution_count": 13,
   "metadata": {},
   "outputs": [],
   "source": [
    "with open('data/repo-names.json', 'r') as f: \n",
    "    repos = [ x.split(\"--\") for x in json.loads(f.read()) ]"
   ]
  },
  {
   "cell_type": "code",
   "execution_count": 33,
   "metadata": {},
   "outputs": [],
   "source": [
    "results = []"
   ]
  },
  {
   "cell_type": "code",
   "execution_count": null,
   "metadata": {},
   "outputs": [],
   "source": [
    "base = 'https://api.github.com/repos'\n",
    "for i, [owner, name] in enumerate(repos):\n",
    "    r = requests.get(f\"{base}/{owner}/{name}\")\n",
    "    d = r.json()\n",
    "\n",
    "    try:\n",
    "        results.append({\n",
    "            'size': d['size'],\n",
    "            'stars': d['stargazers_count'],\n",
    "            'lang': d['language'],\n",
    "            'forks': d['forks'],\n",
    "            'open_issues': d['open_issues'],\n",
    "            'watchers': d['watchers'],\n",
    "            'created_at': d['created_at'],\n",
    "            'license': d['license']['name'],\n",
    "            'has_wiki': d['has_wiki'],\n",
    "            'name': d['full_name'],\n",
    "        })\n",
    "    except:\n",
    "        print(f\"Rate limited at {i}: {owner}--{name}\")\n",
    "        break"
   ]
  },
  {
   "cell_type": "code",
   "execution_count": 78,
   "metadata": {},
   "outputs": [],
   "source": [
    "with open('data/covariates.json', 'w') as f: json.dump(results, f)"
   ]
  }
 ],
 "metadata": {
  "kernelspec": {
   "display_name": "scrape",
   "language": "python",
   "name": "python3"
  },
  "language_info": {
   "codemirror_mode": {
    "name": "ipython",
    "version": 3
   },
   "file_extension": ".py",
   "mimetype": "text/x-python",
   "name": "python",
   "nbconvert_exporter": "python",
   "pygments_lexer": "ipython3",
   "version": "3.11.3"
  }
 },
 "nbformat": 4,
 "nbformat_minor": 2
}
