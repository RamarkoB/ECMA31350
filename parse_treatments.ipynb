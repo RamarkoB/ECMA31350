{
 "cells": [
  {
   "cell_type": "code",
   "execution_count": 20,
   "metadata": {},
   "outputs": [],
   "source": [
    "import os\n",
    "import pandas as pd\n",
    "import json"
   ]
  },
  {
   "cell_type": "code",
   "execution_count": 16,
   "metadata": {},
   "outputs": [],
   "source": [
    "files = [os.fsdecode(file) for file in os.listdir(f\"data/treatments/\")]\n",
    "treatment_dict = {}\n",
    "\n",
    "for filename in files:\n",
    "    if filename != \"failed.txt\":\n",
    "        with open(f\"data/treatments/{filename}\") as f:\n",
    "            times = []\n",
    "            for line in f.readlines():\n",
    "                times.append(pd.to_datetime(line.strip()).tz_localize(None))\n",
    "            \n",
    "            repo = filename.replace(\".txt\", \"\")\n",
    "            if times:\n",
    "                treatment_dict[repo] = min(times)\n",
    "            else:\n",
    "                treatment_dict[repo] = None"
   ]
  },
  {
   "cell_type": "code",
   "execution_count": 18,
   "metadata": {},
   "outputs": [],
   "source": [
    "first_adoption_json = {}\n",
    "\n",
    "for k, v in treatment_dict.items():\n",
    "    if pd.isna(v):\n",
    "        first_adoption_json[k] = None\n",
    "    else:\n",
    "        first_adoption_json[k] = v.strftime('%Y-%m-%d %X')"
   ]
  },
  {
   "cell_type": "code",
   "execution_count": 21,
   "metadata": {},
   "outputs": [],
   "source": [
    "with open(\"data/treatment-new.json\", \"w\", encoding='utf-8') as f:\n",
    "    json.dump(first_adoption_json, f, ensure_ascii=False, indent=4)"
   ]
  }
 ],
 "metadata": {
  "kernelspec": {
   "display_name": "mlproj",
   "language": "python",
   "name": "python3"
  },
  "language_info": {
   "codemirror_mode": {
    "name": "ipython",
    "version": 3
   },
   "file_extension": ".py",
   "mimetype": "text/x-python",
   "name": "python",
   "nbconvert_exporter": "python",
   "pygments_lexer": "ipython3",
   "version": "3.11.8"
  }
 },
 "nbformat": 4,
 "nbformat_minor": 2
}
