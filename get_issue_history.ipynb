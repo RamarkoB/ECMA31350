{
 "cells": [
  {
   "cell_type": "code",
   "execution_count": 61,
   "metadata": {},
   "outputs": [],
   "source": [
    "import json\n",
    "import pandas as pd\n",
    "import numpy as np\n",
    "import json\n",
    "import matplotlib.pyplot as plt\n",
    "import os\n",
    "from src.entities.Issue import Issue"
   ]
  },
  {
   "cell_type": "code",
   "execution_count": 43,
   "metadata": {},
   "outputs": [],
   "source": [
    "top_50 = pd.read_csv(\"top-50.csv\")\n",
    "repos = top_50['repo_name'].to_numpy()"
   ]
  },
  {
   "cell_type": "code",
   "execution_count": 82,
   "metadata": {},
   "outputs": [
    {
     "name": "stdout",
     "output_type": "stream",
     "text": [
      "Missing vuejs/vue\n",
      "Missing angular/angular.js\n",
      "Missing Dogfalo/materialize\n",
      "Missing webpack/webpack\n",
      "Missing Semantic-Org/Semantic-UI\n",
      "Missing babel/babel\n",
      "Missing nwjs/nw.js\n",
      "Missing jekyll/jekyll\n",
      "Missing scikit-learn/scikit-learn\n",
      "Missing kubernetes/kubernetes\n",
      "Missing ariya/phantomjs\n",
      "Missing angular/material\n",
      "Missing Bilibili/ijkplayer\n",
      "Missing NativeScript/NativeScript\n",
      "Missing TryGhost/Ghost\n",
      "Missing syncthing/syncthing\n",
      "Missing adobe/brackets\n",
      "Missing balderdashy/sails\n",
      "Missing nolimits4web/Swiper\n",
      "Missing chartjs/Chart.js\n",
      "Missing Leaflet/Leaflet\n",
      "Missing mozilla/pdf.js\n",
      "Missing emberjs/ember.js\n",
      "Missing prometheus/prometheus\n"
     ]
    }
   ],
   "source": [
    "all_repos = []\n",
    "\n",
    "for repo in repos:\n",
    "    owner, name = repo.split(\"/\")\n",
    "    is_path = False\n",
    "    for file in os.listdir(f\"../code/data/issue-history/\"):\n",
    "        filename = os.fsdecode(file)\n",
    "        if f\"{owner.lower()}--{name.lower()}\" in filename:\n",
    "            is_path = True\n",
    "            all_repos.append(repo)\n",
    "            break\n",
    "    if not is_path:\n",
    "        print(f\"Missing {repo}\")"
   ]
  },
  {
   "cell_type": "code",
   "execution_count": 94,
   "metadata": {},
   "outputs": [],
   "source": [
    "treated = ['FreeCodeCamp/FreeCodeCamp',\n",
    " 'facebook/react-native',\n",
    " 'tensorflow/tensorflow',\n",
    " 'atom/atom',\n",
    " 'Microsoft/vscode',\n",
    " 'angular/angular',\n",
    " 'golang/go',\n",
    " 'rails/rails',\n",
    " 'mrdoob/three.js',\n",
    " 'Microsoft/TypeScript',\n",
    " 'electron/electron',\n",
    " 'ansible/ansible',\n",
    " 'grafana/grafana',\n",
    " 'ant-design/ant-design',\n",
    " 'ampproject/amphtml',\n",
    " 'fastlane/fastlane',\n",
    " 'Automattic/wp-calypso',\n",
    " 'spring-projects/spring-boot',\n",
    " 'dotnet/roslyn']\n",
    "\n",
    "control = ['facebook/react',\n",
    " 'twbs/bootstrap',\n",
    " 'apple/swift',\n",
    " 'grpc/grpc',\n",
    " 'spring-projects/spring-framework',\n",
    " 'symfony/symfony']"
   ]
  },
  {
   "cell_type": "code",
   "execution_count": 104,
   "metadata": {},
   "outputs": [],
   "source": [
    "def find_filename(repo):\n",
    "    owner, name = repo.split(\"/\")\n",
    "\n",
    "    for file in os.listdir(f\"../code/data/issue-history/\"):\n",
    "        filename = os.fsdecode(file)\n",
    "        if f\"_{owner.lower()}--{name.lower()}_\" in filename:\n",
    "            return f\"../code/data/issue-history/{filename}\"\n",
    "    \n",
    "    raise ValueError(f\"Missing {repo}\")"
   ]
  },
  {
   "cell_type": "code",
   "execution_count": 105,
   "metadata": {},
   "outputs": [],
   "source": [
    "def get_ttr(issue):\n",
    "    if not issue['state'] == 'closed':\n",
    "        return None\n",
    "    if issue['closed_at'] is None or issue['created_at'] is None:\n",
    "        return None\n",
    "    diff = (pd.to_datetime(issue['closed_at']).tz_localize(None) - \n",
    "            pd.to_datetime(issue['created_at']).tz_localize(None))\n",
    "    return int(diff.total_seconds() / 60)"
   ]
  },
  {
   "cell_type": "code",
   "execution_count": 106,
   "metadata": {},
   "outputs": [
    {
     "name": "stdout",
     "output_type": "stream",
     "text": [
      "finished FreeCodeCamp/FreeCodeCamp\n",
      "finished facebook/react\n",
      "finished facebook/react-native\n",
      "finished tensorflow/tensorflow\n",
      "finished twbs/bootstrap\n",
      "finished apple/swift\n",
      "finished atom/atom\n",
      "finished Microsoft/vscode\n",
      "finished angular/angular\n",
      "finished golang/go\n",
      "finished rails/rails\n",
      "finished mrdoob/three.js\n",
      "finished Microsoft/TypeScript\n",
      "finished electron/electron\n",
      "finished ansible/ansible\n",
      "finished grafana/grafana\n",
      "finished ant-design/ant-design\n",
      "finished ampproject/amphtml\n",
      "finished fastlane/fastlane\n",
      "finished Automattic/wp-calypso\n",
      "finished grpc/grpc\n",
      "finished spring-projects/spring-boot\n",
      "finished spring-projects/spring-framework\n",
      "finished symfony/symfony\n",
      "finished dotnet/roslyn\n"
     ]
    }
   ],
   "source": [
    "issue_dict = {}\n",
    "\n",
    "for repo in all_repos:\n",
    "    issue_dict[repo] = {}\n",
    "    with open(find_filename(repo), \"r\") as f:\n",
    "        for line in f.readlines():\n",
    "            issue = json.loads(line)['data']\n",
    "            if (pd.to_datetime('2016-01-01') <= \n",
    "            pd.to_datetime(issue['created_at']).tz_localize(None) <=\n",
    "            pd.to_datetime('2016-06-30')):\n",
    "                issue_dict[repo][pd.to_datetime(issue['created_at'])] = {\n",
    "                    \"title\": issue['title'],\n",
    "                    \"comments\": issue['comments'],\n",
    "                    \"ttr\": get_ttr(issue)\n",
    "                }\n",
    "        print(f\"finished {repo}\")"
   ]
  },
  {
   "cell_type": "code",
   "execution_count": 107,
   "metadata": {},
   "outputs": [],
   "source": [
    "issue_dd_df = {}\n",
    "\n",
    "for repo in issue_dict:\n",
    "    issues = issue_dict[repo]\n",
    "    ttr_data = {k: v['ttr'] for k, v in issues.items() if v['ttr'] is not None}\n",
    "    series = pd.Series(list(ttr_data.values()), index=list(ttr_data.keys()))\n",
    "    series.index = pd.to_datetime(series.index, utc=True)\n",
    "    data = series.resample('Q').mean()\n",
    "    issue_dd_df[repo] = data.values"
   ]
  },
  {
   "cell_type": "code",
   "execution_count": 108,
   "metadata": {},
   "outputs": [],
   "source": [
    "ys = []\n",
    "ds = []\n",
    "\n",
    "for repo in issue_dd_df:\n",
    "    ys.append(issue_dd_df[repo][1] - issue_dd_df[repo][0])\n",
    "    ds.append(1 if repo in treated else 0)"
   ]
  },
  {
   "cell_type": "code",
   "execution_count": 109,
   "metadata": {},
   "outputs": [],
   "source": [
    "df = pd.DataFrame({\"y\": ys, \"d\": ds}, index=list(issue_dd_df.keys()))"
   ]
  },
  {
   "cell_type": "code",
   "execution_count": 116,
   "metadata": {},
   "outputs": [],
   "source": [
    "def get_repo_stats(row):\n",
    "    owner, name = row.name.split(\"/\")\n",
    "    with (open(f\"repo-data/{owner}--{name}.log\")) as f:\n",
    "        data = json.load(f)\n",
    "        return data['size'], data['forks_count'], data['watchers'], (pd.to_datetime(\"2016-02-17\") - pd.to_datetime(data['created_at']).tz_localize(None)).days"
   ]
  },
  {
   "cell_type": "code",
   "execution_count": 120,
   "metadata": {},
   "outputs": [],
   "source": [
    "df['size'], df['forks'], df['watchers'], df['age'] = zip(*df.apply(get_repo_stats, axis=1))"
   ]
  },
  {
   "cell_type": "code",
   "execution_count": 165,
   "metadata": {},
   "outputs": [],
   "source": [
    "df = df.drop([\"spring-projects/spring-framework\"])"
   ]
  },
  {
   "cell_type": "code",
   "execution_count": 166,
   "metadata": {},
   "outputs": [
    {
     "data": {
      "text/html": [
       "<div>\n",
       "<style scoped>\n",
       "    .dataframe tbody tr th:only-of-type {\n",
       "        vertical-align: middle;\n",
       "    }\n",
       "\n",
       "    .dataframe tbody tr th {\n",
       "        vertical-align: top;\n",
       "    }\n",
       "\n",
       "    .dataframe thead th {\n",
       "        text-align: right;\n",
       "    }\n",
       "</style>\n",
       "<table border=\"1\" class=\"dataframe\">\n",
       "  <thead>\n",
       "    <tr style=\"text-align: right;\">\n",
       "      <th></th>\n",
       "      <th>y</th>\n",
       "      <th>d</th>\n",
       "      <th>size</th>\n",
       "      <th>forks</th>\n",
       "      <th>watchers</th>\n",
       "      <th>age</th>\n",
       "    </tr>\n",
       "  </thead>\n",
       "  <tbody>\n",
       "    <tr>\n",
       "      <th>facebook/react</th>\n",
       "      <td>38236.098476</td>\n",
       "      <td>0</td>\n",
       "      <td>396651</td>\n",
       "      <td>44819</td>\n",
       "      <td>219590</td>\n",
       "      <td>998</td>\n",
       "    </tr>\n",
       "    <tr>\n",
       "      <th>twbs/bootstrap</th>\n",
       "      <td>-13772.422263</td>\n",
       "      <td>0</td>\n",
       "      <td>239122</td>\n",
       "      <td>78303</td>\n",
       "      <td>166972</td>\n",
       "      <td>1663</td>\n",
       "    </tr>\n",
       "    <tr>\n",
       "      <th>grpc/grpc</th>\n",
       "      <td>58308.378755</td>\n",
       "      <td>0</td>\n",
       "      <td>504780</td>\n",
       "      <td>10286</td>\n",
       "      <td>40324</td>\n",
       "      <td>435</td>\n",
       "    </tr>\n",
       "    <tr>\n",
       "      <th>symfony/symfony</th>\n",
       "      <td>-4871.779510</td>\n",
       "      <td>0</td>\n",
       "      <td>271408</td>\n",
       "      <td>9322</td>\n",
       "      <td>29132</td>\n",
       "      <td>2234</td>\n",
       "    </tr>\n",
       "  </tbody>\n",
       "</table>\n",
       "</div>"
      ],
      "text/plain": [
       "                            y  d    size  forks  watchers   age\n",
       "facebook/react   38236.098476  0  396651  44819    219590   998\n",
       "twbs/bootstrap  -13772.422263  0  239122  78303    166972  1663\n",
       "grpc/grpc        58308.378755  0  504780  10286     40324   435\n",
       "symfony/symfony  -4871.779510  0  271408   9322     29132  2234"
      ]
     },
     "execution_count": 166,
     "metadata": {},
     "output_type": "execute_result"
    }
   ],
   "source": [
    "df[df['d'] == 0]"
   ]
  },
  {
   "cell_type": "code",
   "execution_count": 167,
   "metadata": {},
   "outputs": [
    {
     "data": {
      "text/plain": [
       "19475.068864541354"
      ]
     },
     "execution_count": 167,
     "metadata": {},
     "output_type": "execute_result"
    }
   ],
   "source": [
    "df[df['d'] == 0]['y'].mean()"
   ]
  },
  {
   "cell_type": "code",
   "execution_count": 168,
   "metadata": {},
   "outputs": [],
   "source": [
    "from doubleml import DoubleMLData, DoubleMLDID\n",
    "\n",
    "dml_data = DoubleMLData(df, y_col='y', d_cols='d', x_cols=['size', 'forks', 'watchers', 'age'])"
   ]
  },
  {
   "cell_type": "code",
   "execution_count": 169,
   "metadata": {},
   "outputs": [],
   "source": [
    "from lightgbm import LGBMClassifier, LGBMRegressor\n",
    "from sklearn.ensemble import RandomForestRegressor, RandomForestClassifier\n",
    "\n",
    "n_estimators = 30\n",
    "ml_g = RandomForestRegressor(n_estimators=n_estimators)\n",
    "ml_m = RandomForestClassifier(n_estimators=n_estimators)"
   ]
  },
  {
   "cell_type": "code",
   "execution_count": 170,
   "metadata": {},
   "outputs": [
    {
     "name": "stdout",
     "output_type": "stream",
     "text": [
      "================== DoubleMLDID Object ==================\n",
      "\n",
      "------------------ Data summary      ------------------\n",
      "Outcome variable: y\n",
      "Treatment variable(s): ['d']\n",
      "Covariates: ['size', 'forks', 'watchers', 'age']\n",
      "Instrument variable(s): None\n",
      "No. Observations: 23\n",
      "\n",
      "------------------ Score & algorithm ------------------\n",
      "Score function: observational\n",
      "DML algorithm: dml2\n",
      "\n",
      "------------------ Machine learner   ------------------\n",
      "Learner ml_g: RandomForestRegressor(n_estimators=30)\n",
      "Learner ml_m: RandomForestClassifier(n_estimators=30)\n",
      "Out-of-sample Performance:\n",
      "Learner ml_g0 RMSE: [[35990.99173818]]\n",
      "Learner ml_g1 RMSE: [[65661.91322341]]\n",
      "Learner ml_m RMSE: [[0.43856651]]\n",
      "\n",
      "------------------ Resampling        ------------------\n",
      "No. folds: 5\n",
      "No. repeated sample splits: 1\n",
      "Apply cross-fitting: True\n",
      "\n",
      "------------------ Fit summary       ------------------\n",
      "           coef       std err         t     P>|t|          2.5 %       97.5 %\n",
      "d -46946.303536  27241.274229 -1.723352  0.084825 -100338.219918  6445.612847\n"
     ]
    },
    {
     "name": "stderr",
     "output_type": "stream",
     "text": [
      "/opt/homebrew/anaconda3/envs/mlproj/lib/python3.11/site-packages/doubleml/_utils_checks.py:204: UserWarning: Propensity predictions from learner RandomForestClassifier(n_estimators=30) for ml_m are close to zero or one (eps=1e-12).\n",
      "  warnings.warn(f'Propensity predictions from learner {str(learner)} for'\n"
     ]
    }
   ],
   "source": [
    "dml_did = DoubleMLDID(dml_data,\n",
    "                      ml_g=ml_g,\n",
    "                      ml_m=ml_m,\n",
    "                      score='observational',\n",
    "                      in_sample_normalization=True,\n",
    "                      n_folds=5)\n",
    "\n",
    "dml_did.fit()\n",
    "print(dml_did)"
   ]
  },
  {
   "cell_type": "code",
   "execution_count": 111,
   "metadata": {},
   "outputs": [
    {
     "name": "stderr",
     "output_type": "stream",
     "text": [
      "  % Total    % Received % Xferd  Average Speed   Time    Time     Time  Current\n",
      "                                 Dload  Upload   Total   Spent    Left  Speed\n",
      "100  7526  100  7526    0     0  19130      0 --:--:-- --:--:-- --:--:-- 19101\n",
      "  % Total    % Received % Xferd  Average Speed   Time    Time     Time  Current\n",
      "                                 Dload  Upload   Total   Spent    Left  Speed\n",
      "100  6646  100  6646    0     0  27940      0 --:--:-- --:--:-- --:--:-- 28042\n",
      "  % Total    % Received % Xferd  Average Speed   Time    Time     Time  Current\n",
      "                                 Dload  Upload   Total   Spent    Left  Speed\n",
      "100  7013  100  7013    0     0  29225      0 --:--:-- --:--:-- --:--:-- 29343\n",
      "  % Total    % Received % Xferd  Average Speed   Time    Time     Time  Current\n",
      "                                 Dload  Upload   Total   Spent    Left  Speed\n",
      "100  7122  100  7122    0     0  34999      0 --:--:-- --:--:-- --:--:-- 35083\n",
      "  % Total    % Received % Xferd  Average Speed   Time    Time     Time  Current\n",
      "                                 Dload  Upload   Total   Spent    Left  Speed\n",
      "100  6648  100  6648    0     0  23690      0 --:--:-- --:--:-- --:--:-- 23658\n",
      "  % Total    % Received % Xferd  Average Speed   Time    Time     Time  Current\n",
      "                                 Dload  Upload   Total   Spent    Left  Speed\n",
      "100  6381  100  6381    0     0  29895      0 --:--:-- --:--:-- --:--:-- 29957\n",
      "  % Total    % Received % Xferd  Average Speed   Time    Time     Time  Current\n",
      "                                 Dload  Upload   Total   Spent    Left  Speed\n",
      "100  6335  100  6335    0     0  22812      0 --:--:-- --:--:-- --:--:-- 22870\n",
      "  % Total    % Received % Xferd  Average Speed   Time    Time     Time  Current\n",
      "                                 Dload  Upload   Total   Spent    Left  Speed\n",
      "100  7087  100  7087    0     0  37253      0 --:--:-- --:--:-- --:--:-- 37300\n",
      "  % Total    % Received % Xferd  Average Speed   Time    Time     Time  Current\n",
      "                                 Dload  Upload   Total   Spent    Left  Speed\n",
      "100  6695  100  6695    0     0  37715      0 --:--:-- --:--:-- --:--:-- 37824\n",
      "  % Total    % Received % Xferd  Average Speed   Time    Time     Time  Current\n",
      "                                 Dload  Upload   Total   Spent    Left  Speed\n",
      "100  6403  100  6403    0     0  20011      0 --:--:-- --:--:-- --:--:-- 20072\n",
      "  % Total    % Received % Xferd  Average Speed   Time    Time     Time  Current\n",
      "                                 Dload  Upload   Total   Spent    Left  Speed\n",
      "100  6405  100  6405    0     0  33591      0 --:--:-- --:--:-- --:--:-- 33710\n",
      "  % Total    % Received % Xferd  Average Speed   Time    Time     Time  Current\n",
      "                                 Dload  Upload   Total   Spent    Left  Speed\n",
      "100  5631  100  5631    0     0  18581      0 --:--:-- --:--:-- --:--:-- 18584\n",
      "  % Total    % Received % Xferd  Average Speed   Time    Time     Time  Current\n",
      "                                 Dload  Upload   Total   Spent    Left  Speed\n",
      "100  7332  100  7332    0     0  37671      0 --:--:-- --:--:-- --:--:-- 37793\n",
      "  % Total    % Received % Xferd  Average Speed   Time    Time     Time  Current\n",
      "                                 Dload  Upload   Total   Spent    Left  Speed\n",
      "100  6871  100  6871    0     0  25599      0 --:--:-- --:--:-- --:--:-- 25638\n",
      "  % Total    % Received % Xferd  Average Speed   Time    Time     Time  Current\n",
      "                                 Dload  Upload   Total   Spent    Left  Speed\n",
      "100  6961  100  6961    0     0  38301      0 --:--:-- --:--:-- --:--:-- 38458\n",
      "  % Total    % Received % Xferd  Average Speed   Time    Time     Time  Current\n",
      "                                 Dload  Upload   Total   Spent    Left  Speed\n",
      "100  7057  100  7057    0     0  24469      0 --:--:-- --:--:-- --:--:-- 24418\n",
      "  % Total    % Received % Xferd  Average Speed   Time    Time     Time  Current\n",
      "                                 Dload  Upload   Total   Spent    Left  Speed\n",
      "100  7053  100  7053    0     0  40391      0 --:--:-- --:--:-- --:--:-- 40534\n",
      "  % Total    % Received % Xferd  Average Speed   Time    Time     Time  Current\n",
      "                                 Dload  Upload   Total   Spent    Left  Speed\n",
      "100  6804  100  6804    0     0  26450      0 --:--:-- --:--:-- --:--:-- 26474\n",
      "  % Total    % Received % Xferd  Average Speed   Time    Time     Time  Current\n",
      "                                 Dload  Upload   Total   Spent    Left  Speed\n",
      "100  6914  100  6914    0     0  40931      0 --:--:-- --:--:-- --:--:-- 41154\n",
      "  % Total    % Received % Xferd  Average Speed   Time    Time     Time  Current\n",
      "                                 Dload  Upload   Total   Spent    Left  Speed\n",
      "100  7090  100  7090    0     0  31471      0 --:--:-- --:--:-- --:--:-- 31511\n",
      "  % Total    % Received % Xferd  Average Speed   Time    Time     Time  Current\n",
      "                                 Dload  Upload   Total   Spent    Left  Speed\n",
      "100  6290  100  6290    0     0  33804      0 --:--:-- --:--:-- --:--:-- 33817\n",
      "  % Total    % Received % Xferd  Average Speed   Time    Time     Time  Current\n",
      "                                 Dload  Upload   Total   Spent    Left  Speed\n",
      "100  7360  100  7360    0     0  25792      0 --:--:-- --:--:-- --:--:-- 25824\n",
      "  % Total    % Received % Xferd  Average Speed   Time    Time     Time  Current\n",
      "                                 Dload  Upload   Total   Spent    Left  Speed\n",
      "100  7582  100  7582    0     0  40498      0 --:--:-- --:--:-- --:--:-- 40545\n",
      "  % Total    % Received % Xferd  Average Speed   Time    Time     Time  Current\n",
      "                                 Dload  Upload   Total   Spent    Left  Speed\n",
      "100  6669  100  6669    0     0  37108      0 --:--:-- --:--:-- --:--:-- 37256\n",
      "  % Total    % Received % Xferd  Average Speed   Time    Time     Time  Current\n",
      "                                 Dload  Upload   Total   Spent    Left  Speed\n",
      "100  6640  100  6640    0     0  24242      0 --:--:-- --:--:-- --:--:-- 24233\n"
     ]
    }
   ],
   "source": [
    "import subprocess\n",
    "\n",
    "for repo in all_repos:\n",
    "    owner, name = repo.split(\"/\")\n",
    "    cmd = f\"curl https://api.github.com/repos/{repo}\"\n",
    "    with (open(f\"repo-data/{owner}--{name}.log\", \"w\")) as f:\n",
    "        subprocess.run(cmd, stdout=f, shell=True)"
   ]
  },
  {
   "cell_type": "code",
   "execution_count": 65,
   "metadata": {},
   "outputs": [],
   "source": [
    "issue_plot = {k: v.getTimeToResolution() for k, v in issue_dict.items() if v.getTimeToResolution() is not None}"
   ]
  },
  {
   "cell_type": "code",
   "execution_count": 155,
   "metadata": {},
   "outputs": [],
   "source": [
    "issue_plot = {k: v['ttr'] for k, v in issue_dict['spring-projects/spring-framework'].items() if v['ttr'] is not None}"
   ]
  },
  {
   "cell_type": "code",
   "execution_count": 162,
   "metadata": {},
   "outputs": [],
   "source": [
    "series = pd.Series(list(issue_plot.values()), index=list(issue_plot.keys()))\n",
    "series.index = pd.to_datetime(series.index, utc=True)\n",
    "data = series.resample('M').mean()"
   ]
  },
  {
   "cell_type": "code",
   "execution_count": 163,
   "metadata": {},
   "outputs": [
    {
     "data": {
      "image/png": "[encoded data removed]",
      "text/plain": [
       "<Figure size 640x480 with 1 Axes>"
      ]
     },
     "metadata": {},
     "output_type": "display_data"
    }
   ],
   "source": [
    "import matplotlib.pyplot as plt\n",
    "from datetime import datetime\n",
    "\n",
    "# data = {}\n",
    "# for i, (time, _) in enumerate(first_adoption_plot.items()):\n",
    "#     data[time] = i\n",
    "\n",
    "timestamps = list(data.index)\n",
    "values = list(data.values)\n",
    "\n",
    "# Plot the data\n",
    "plt.plot(timestamps, values, marker='o', linestyle='-', color='b')\n",
    "plt.axvline(x=pd.to_datetime('2016-05-11 15:30:25'))\n",
    "\n",
    "# Optionally, format the x-axis as dates\n",
    "plt.gcf().autofmt_xdate()\n",
    "\n",
    "# Add labels and title\n",
    "plt.xlabel('Timestamp')\n",
    "plt.ylabel('Values')\n",
    "plt.title('Time Series Plot')\n",
    "\n",
    "# Show the plot\n",
    "plt.show()"
   ]
  }
 ],
 "metadata": {
  "kernelspec": {
   "display_name": "mlproj",
   "language": "python",
   "name": "python3"
  },
  "language_info": {
   "codemirror_mode": {
    "name": "ipython",
    "version": 3
   },
   "file_extension": ".py",
   "mimetype": "text/x-python",
   "name": "python",
   "nbconvert_exporter": "python",
   "pygments_lexer": "ipython3",
   "version": "3.11.8"
  }
 },
 "nbformat": 4,
 "nbformat_minor": 2
}
